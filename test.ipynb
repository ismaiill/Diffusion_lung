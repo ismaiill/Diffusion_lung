{
 "cells": [
  {
   "cell_type": "code",
   "execution_count": 8,
   "metadata": {},
   "outputs": [],
   "source": [
    "import torch.nn.functional as F\n",
    "from timeit import default_timer\n",
    "from utilities3 import *\n",
    "from matplotlib import pyplot as plt\n",
    "from pdb import set_trace as st\n",
    "import cv2\n",
    "from unet_parts import *\n",
    "from pytorch_msssim import  ms_ssim, ssim\n",
    "from metrics import *\n",
    "import wandb\n",
    "import sys\n",
    "import json\n",
    "import resnet\n",
    "\n",
    "class Dataset(torch.utils.data.Dataset):\n",
    "    def __init__(self, train_F,  transform=None, mean=None, std=None,  eps=1e-10):\n",
    "        'Initialization'\n",
    "        with open(train_F, 'r') as openfile: \n",
    "            data = json.load(openfile) \n",
    "        data = np.array(data)\n",
    "        #self.labels = data[:,1].astype(int)\n",
    "        self.data = data[:,0]\n",
    "        self.targets = data[:,1].astype(float)\n",
    "        self.mean = mean\n",
    "        self.std = std\n",
    "        self.eps = eps\n",
    "\n",
    "    def __len__(self):\n",
    "        'Denotes the total number of samples'\n",
    "        return len(self.data)\n",
    "\n",
    "    def __getitem__(self, index):\n",
    "        x = torch.load(self.data[index])\n",
    "        try:\n",
    "            x = (x - self.mean) / (self.std + self.eps)\n",
    "        except:\n",
    "            print(x.shape)\n",
    "        return x, self.targets[index]\n",
    "\n",
    "torch.manual_seed(0)\n",
    "np.random.seed(0)\n",
    "\n",
    "N = 700 * 3\n",
    "ntrain = 1760 #900*2\n",
    "ntest = 2200-1760#150*2\n",
    "\n",
    "batch_size = 4\n",
    "learning_rate = 1e-2#0.001\n",
    "epochs = 90\n",
    "iterations = epochs * (ntrain // batch_size)\n",
    "\n",
    "modes = 20 #12\n",
    "modes_lat = 12#12\n",
    "width = 16 #28 #32\n",
    "\n",
    "r = 10\n",
    "x_lat = 32#64\n",
    "x_dep = 955#857\n",
    "y_lat = 877\n",
    "y_dep = 844\n",
    "x_dep_sample = 2\n",
    "\n",
    "#noise_level = '20dB'\n",
    "USE_WANDB = True\n",
    "data_dir1 = '/mlroom/data/lung_set1' #pts/'\n",
    "data_dir = '/mlroom/data/lung_set1_fix'\n",
    "EVALUATE = 1-True\n",
    "\n",
    "mean_file = torch.load('raw_mean.pt')\n",
    "std_file = torch.load('raw_std.pt')\n",
    "\n",
    "train_set = Dataset('add_a0_4500_train.json', mean = mean_file, std=std_file)\n",
    "test_set = Dataset('add_a0_4500_test.json', mean = mean_file, std=std_file)\n",
    "\n",
    "train_loader = torch.utils.data.DataLoader(train_set, batch_size=batch_size,\n",
    "                                            shuffle=True)\n",
    "test_loader = torch.utils.data.DataLoader(test_set, batch_size=batch_size,\n",
    "                                            shuffle=True)#False)\n",
    "ntrain = len(train_loader)\n",
    "ntest = len(test_loader)"
   ]
  },
  {
   "cell_type": "code",
   "execution_count": 9,
   "metadata": {},
   "outputs": [],
   "source": [
    "model = resnet.resnet18(num_classes=1).cuda()"
   ]
  },
  {
   "cell_type": "code",
   "execution_count": null,
   "metadata": {},
   "outputs": [],
   "source": [
    "for raw, aera in train_set:\n",
    "    print(aera)"
   ]
  },
  {
   "cell_type": "code",
   "execution_count": null,
   "metadata": {},
   "outputs": [],
   "source": []
  }
 ],
 "metadata": {
  "kernelspec": {
   "display_name": "ml",
   "language": "python",
   "name": "python3"
  },
  "language_info": {
   "codemirror_mode": {
    "name": "ipython",
    "version": 3
   },
   "file_extension": ".py",
   "mimetype": "text/x-python",
   "name": "python",
   "nbconvert_exporter": "python",
   "pygments_lexer": "ipython3",
   "version": "3.11.5"
  }
 },
 "nbformat": 4,
 "nbformat_minor": 2
}
