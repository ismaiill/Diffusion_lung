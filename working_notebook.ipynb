{
 "cells": [
  {
   "cell_type": "code",
   "execution_count": 61,
   "metadata": {},
   "outputs": [],
   "source": [
    "from matplotlib import pyplot as plt\n",
    "import os \n",
    "import json\n",
    "\n",
    "\n",
    "input = []\n",
    "input_directory_path = '/home/peter/data/split'\n",
    "files = os.listdir(input_directory_path)\n",
    "for file in files:\n",
    "    input.append(file)\n",
    "\n",
    "output = []\n",
    "output_directory_path = '/home/peter/data/2dmap'\n",
    "files = os.listdir(output_directory_path)\n",
    "for file in files:\n",
    "    output.append(file)    \n",
    "\n",
    "data = [['/home/peter/data/split/'+'RF_'+ output_name, '/home/peter/data/2dmap/' + output_name] \n",
    "        for output_name in output]\n",
    "\n",
    "json_data = json.dumps(data, indent = 1)\n",
    "path_to_empty_json = '/home/ismail/Diffusion_lung/data_4500_train.json'\n",
    "with open(path_to_empty_json, 'w') as json_file:\n",
    "    json_file.write(json_data)\n"
   ]
  },
  {
   "cell_type": "code",
   "execution_count": 62,
   "metadata": {},
   "outputs": [
    {
     "data": {
      "text/plain": [
       "4500"
      ]
     },
     "execution_count": 62,
     "metadata": {},
     "output_type": "execute_result"
    }
   ],
   "source": [
    "len(data)"
   ]
  },
  {
   "cell_type": "code",
   "execution_count": null,
   "metadata": {},
   "outputs": [],
   "source": []
  }
 ],
 "metadata": {
  "kernelspec": {
   "display_name": "ml",
   "language": "python",
   "name": "python3"
  },
  "language_info": {
   "codemirror_mode": {
    "name": "ipython",
    "version": 3
   },
   "file_extension": ".py",
   "mimetype": "text/x-python",
   "name": "python",
   "nbconvert_exporter": "python",
   "pygments_lexer": "ipython3",
   "version": "3.11.5"
  }
 },
 "nbformat": 4,
 "nbformat_minor": 2
}
